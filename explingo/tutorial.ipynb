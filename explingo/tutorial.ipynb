{
 "cells": [
  {
   "cell_type": "code",
   "id": "initial_id",
   "metadata": {
    "is_executing": true,
    "ExecuteTime": {
     "end_time": "2024-10-16T19:13:13.237509Z",
     "start_time": "2024-10-16T19:13:13.186974Z"
    }
   },
   "source": [
    "import yaml \n",
    "import os\n",
    "\n",
    "with open(os.path.join(\"..\", \"keys.yaml\"), \"r\") as file:\n",
    "    config = yaml.safe_load(file)\n",
    "    openai_api_key = config[\"openai_api_key\"]"
   ],
   "outputs": [],
   "execution_count": 1
  },
  {
   "cell_type": "code",
   "id": "94b1d6514180c940",
   "metadata": {
    "is_executing": true,
    "ExecuteTime": {
     "end_time": "2024-10-16T19:13:15.418493Z",
     "start_time": "2024-10-16T19:13:13.240494Z"
    }
   },
   "source": [
    "from explingo import Narrator, Grader \n",
    "\n",
    "example_narratives = [\n",
    "    (\"(Above ground living area square feet, 1256.00, -12527.46), (Overall material and finish of the house, 5.00, -10743.76), (Second floor square feet, 0.00, -10142.29)\", \n",
    "     \"The house's living area size of around 1,200 sq. ft., lower quality materials (5/10), and lack of a second floor all reduce the house's value.\"),\n",
    "    (\"(Second floor square feet, 854.00, 12757.84), (Original construction date, 2003.00, 9115.72)\",\n",
    "     \"The house's large second floor of around 850 sq. ft and recent construction date of 2003 increase its value.\"),\n",
    "    (\"(Overall material and finish of the house, 8.00, 10743.76), (Above ground living area square feet, 2000.00, 12527.46), (Second floor square feet, 1000.00, 10142.29)\",\n",
    "        \"The house's high quality materials (8/10), large living area size of around 2,000 sq. ft., and a second floor of around 1,000 sq. ft. all increase the house's value.\"),\n",
    "]\n",
    "\n",
    "explanation_format = \"(feature name, feature value, SHAP feature contribution)\"\n",
    "context = \"The model predicts house prices\"\n",
    "\n",
    "narrator = Narrator(openai_api_key=openai_api_key,\n",
    "                    explanation_format=explanation_format,\n",
    "                    context=context,\n",
    "                    sample_narratives=example_narratives)\n"
   ],
   "outputs": [],
   "execution_count": 2
  },
  {
   "cell_type": "markdown",
   "id": "225625fd117fec33",
   "metadata": {},
   "source": []
  },
  {
   "cell_type": "code",
   "id": "435b1b4daa990205",
   "metadata": {
    "ExecuteTime": {
     "end_time": "2024-10-16T19:13:15.496257Z",
     "start_time": "2024-10-16T19:13:15.420480Z"
    }
   },
   "source": [
    "explanation = \"(number of rooms, 11, 7020), (fireplace, yes, 12903)\"\n",
    "\n",
    "narrative = narrator.narrate(explanation)\n",
    "narrative"
   ],
   "outputs": [
    {
     "data": {
      "text/plain": [
       "\"The house's large number of rooms (11) and the presence of a fireplace both increase its value.\""
      ]
     },
     "execution_count": 3,
     "metadata": {},
     "output_type": "execute_result"
    }
   ],
   "execution_count": 3
  },
  {
   "cell_type": "code",
   "id": "1b3c383915180de",
   "metadata": {
    "ExecuteTime": {
     "end_time": "2024-10-16T19:13:15.622039Z",
     "start_time": "2024-10-16T19:13:15.504007Z"
    }
   },
   "source": [
    "grader = Grader(openai_api_key=openai_api_key, \n",
    "                metrics=\"all\", \n",
    "                sample_narratives=example_narratives)\n",
    "\n",
    "grader(explanation=explanation, explanation_format=explanation_format, narrative=narrative)"
   ],
   "outputs": [
    {
     "data": {
      "text/plain": [
       "accuracy        4.0\n",
       "completeness    4.0\n",
       "fluency         4.0\n",
       "conciseness     4.0\n",
       "dtype: float64"
      ]
     },
     "execution_count": 4,
     "metadata": {},
     "output_type": "execute_result"
    }
   ],
   "execution_count": 4
  },
  {
   "cell_type": "code",
   "id": "bbba0e6516ec56b2",
   "metadata": {
    "ExecuteTime": {
     "end_time": "2024-10-16T19:13:27.155656Z",
     "start_time": "2024-10-16T19:13:15.625039Z"
    }
   },
   "source": [
    "narrative_with_bootstrap = narrator.narrate(explanation, n_bootstrapped=1, grader=grader)\n",
    "narrative_with_bootstrap"
   ],
   "outputs": [
    {
     "name": "stderr",
     "output_type": "stream",
     "text": [
      "  0%|          | 0/3 [00:00<?, ?it/s]"
     ]
    },
    {
     "name": "stdout",
     "output_type": "stream",
     "text": [
      "TRACE [(Predict(NarratorSig(context, explanation, explanation_format -> narrative\n",
      "    instructions=\"You are helping users understand an ML model's prediction. Given an explanation and information about the model,\\nconvert the explanation into a human-readable narrative.\"\n",
      "    context = Field(annotation=str required=True json_schema_extra={'desc': 'what the ML model predicts', '__dspy_field_type': 'input', 'prefix': 'Context:'})\n",
      "    explanation = Field(annotation=str required=True json_schema_extra={'desc': \"explanation of an ML model's prediction\", '__dspy_field_type': 'input', 'prefix': 'Explanation:'})\n",
      "    explanation_format = Field(annotation=str required=True json_schema_extra={'desc': 'format the explanation is given in', '__dspy_field_type': 'input', 'prefix': 'Explanation Format:'})\n",
      "    narrative = Field(annotation=str required=True json_schema_extra={'desc': 'human-readable narrative version of the explanation', '__dspy_field_type': 'output', 'prefix': 'Narrative:'})\n",
      ")), {'explanation': '(Above ground living area square feet, 1256.00, -12527.46), (Overall material and finish of the house, 5.00, -10743.76), (Second floor square feet, 0.00, -10142.29)', 'context': 'The model predicts house prices', 'explanation_format': '(feature name, feature value, SHAP feature contribution)'}, Prediction(\n",
      "    narrative=\"Narrative: The house's relatively small above ground living area of around 1,256 sq. ft., average quality materials (5/10), and lack of a second floor all decrease the house's value.\"\n",
      "))]\n"
     ]
    },
    {
     "name": "stderr",
     "output_type": "stream",
     "text": [
      " 33%|███▎      | 1/3 [00:10<00:20, 10.27s/it]\n",
      "  0%|          | 0/3 [00:00<?, ?it/s]\n",
      "  0%|          | 0/3 [00:00<?, ?it/s]\n"
     ]
    },
    {
     "name": "stdout",
     "output_type": "stream",
     "text": [
      "Bootstrapped 1 full traces after 1 examples in round 2.\n"
     ]
    },
    {
     "data": {
      "text/plain": [
       "\"The house's large number of rooms, totaling 11, and the presence of a fireplace both contribute to an increase in its value.\""
      ]
     },
     "execution_count": 5,
     "metadata": {},
     "output_type": "execute_result"
    }
   ],
   "execution_count": 5
  },
  {
   "cell_type": "code",
   "id": "3c8dcad6baab3802",
   "metadata": {
    "ExecuteTime": {
     "end_time": "2024-10-16T19:13:29.520885Z",
     "start_time": "2024-10-16T19:13:27.158011Z"
    }
   },
   "source": [
    "grader(explanation=explanation, explanation_format=explanation_format, narrative=narrative_with_bootstrap)"
   ],
   "outputs": [
    {
     "data": {
      "text/plain": [
       "accuracy        4.0\n",
       "completeness    4.0\n",
       "fluency         4.0\n",
       "conciseness     4.0\n",
       "dtype: float64"
      ]
     },
     "execution_count": 6,
     "metadata": {},
     "output_type": "execute_result"
    }
   ],
   "execution_count": 6
  },
  {
   "metadata": {
    "ExecuteTime": {
     "end_time": "2024-10-16T19:17:22.387316Z",
     "start_time": "2024-10-16T19:17:22.372937Z"
    }
   },
   "cell_type": "code",
   "source": "narrator.llm.inspect_history()",
   "id": "451c13bd7361ba12",
   "outputs": [
    {
     "name": "stdout",
     "output_type": "stream",
     "text": [
      "\n",
      "\n",
      "\n",
      "You are helping users understand an ML model's prediction. Given an explanation and information about the model,\n",
      "convert the explanation into a human-readable narrative.\n",
      "\n",
      "---\n",
      "\n",
      "Follow the following format.\n",
      "\n",
      "Context: what the ML model predicts\n",
      "\n",
      "Explanation: explanation of an ML model's prediction\n",
      "\n",
      "Explanation Format: format the explanation is given in\n",
      "\n",
      "Narrative: human-readable narrative version of the explanation\n",
      "\n",
      "---\n",
      "\n",
      "Context: The model predicts house prices\n",
      "\n",
      "Explanation: (Above ground living area square feet, 1256.00, -12527.46), (Overall material and finish of the house, 5.00, -10743.76), (Second floor square feet, 0.00, -10142.29)\n",
      "\n",
      "Explanation Format: (feature name, feature value, SHAP feature contribution)\n",
      "\n",
      "Narrative: Narrative: The house's relatively small above ground living area of around 1,256 sq. ft., average quality materials (5/10), and lack of a second floor all decrease the house's value.\n",
      "\n",
      "---\n",
      "\n",
      "Context: The model predicts house prices\n",
      "Explanation: (Overall material and finish of the house, 8.00, 10743.76), (Above ground living area square feet, 2000.00, 12527.46), (Second floor square feet, 1000.00, 10142.29)\n",
      "Explanation Format: (feature name, feature value, SHAP feature contribution)\n",
      "Narrative: The house's high quality materials (8/10), large living area size of around 2,000 sq. ft., and a second floor of around 1,000 sq. ft. all increase the house's value.\n",
      "\n",
      "---\n",
      "\n",
      "Context: The model predicts house prices\n",
      "Explanation: (Second floor square feet, 854.00, 12757.84), (Original construction date, 2003.00, 9115.72)\n",
      "Explanation Format: (feature name, feature value, SHAP feature contribution)\n",
      "Narrative: The house's large second floor of around 850 sq. ft and recent construction date of 2003 increase its value.\n",
      "\n",
      "---\n",
      "\n",
      "Context: The model predicts house prices\n",
      "\n",
      "Explanation: (number of rooms, 11, 7020), (fireplace, yes, 12903)\n",
      "\n",
      "Explanation Format: (feature name, feature value, SHAP feature contribution)\n",
      "\n",
      "Narrative: The house's large number of rooms, totaling 11, and the presence of a fireplace both contribute to an increase in its value.\n",
      "\n",
      "\n",
      "\n"
     ]
    },
    {
     "data": {
      "text/plain": [
       "\"\\n\\n\\nYou are helping users understand an ML model's prediction. Given an explanation and information about the model,\\nconvert the explanation into a human-readable narrative.\\n\\n---\\n\\nFollow the following format.\\n\\nContext: what the ML model predicts\\n\\nExplanation: explanation of an ML model's prediction\\n\\nExplanation Format: format the explanation is given in\\n\\nNarrative: human-readable narrative version of the explanation\\n\\n---\\n\\nContext: The model predicts house prices\\n\\nExplanation: (Above ground living area square feet, 1256.00, -12527.46), (Overall material and finish of the house, 5.00, -10743.76), (Second floor square feet, 0.00, -10142.29)\\n\\nExplanation Format: (feature name, feature value, SHAP feature contribution)\\n\\nNarrative: Narrative: The house's relatively small above ground living area of around 1,256 sq. ft., average quality materials (5/10), and lack of a second floor all decrease the house's value.\\n\\n---\\n\\nContext: The model predicts house prices\\nExplanation: (Overall material and finish of the house, 8.00, 10743.76), (Above ground living area square feet, 2000.00, 12527.46), (Second floor square feet, 1000.00, 10142.29)\\nExplanation Format: (feature name, feature value, SHAP feature contribution)\\nNarrative: The house's high quality materials (8/10), large living area size of around 2,000 sq. ft., and a second floor of around 1,000 sq. ft. all increase the house's value.\\n\\n---\\n\\nContext: The model predicts house prices\\nExplanation: (Second floor square feet, 854.00, 12757.84), (Original construction date, 2003.00, 9115.72)\\nExplanation Format: (feature name, feature value, SHAP feature contribution)\\nNarrative: The house's large second floor of around 850 sq. ft and recent construction date of 2003 increase its value.\\n\\n---\\n\\nContext: The model predicts house prices\\n\\nExplanation: (number of rooms, 11, 7020), (fireplace, yes, 12903)\\n\\nExplanation Format: (feature name, feature value, SHAP feature contribution)\\n\\nNarrative:\\x1b[32m The house's large number of rooms, totaling 11, and the presence of a fireplace both contribute to an increase in its value.\\x1b[0m\\n\\n\\n\""
      ]
     },
     "execution_count": 7,
     "metadata": {},
     "output_type": "execute_result"
    }
   ],
   "execution_count": 7
  },
  {
   "metadata": {},
   "cell_type": "code",
   "outputs": [],
   "execution_count": null,
   "source": "",
   "id": "2a4ae0dbc4963ed7"
  }
 ],
 "metadata": {
  "kernelspec": {
   "display_name": "Python 3 (ipykernel)",
   "language": "python",
   "name": "python3"
  },
  "language_info": {
   "codemirror_mode": {
    "name": "ipython",
    "version": 3
   },
   "file_extension": ".py",
   "mimetype": "text/x-python",
   "name": "python",
   "nbconvert_exporter": "python",
   "pygments_lexer": "ipython3",
   "version": "3.11.4"
  }
 },
 "nbformat": 4,
 "nbformat_minor": 5
}

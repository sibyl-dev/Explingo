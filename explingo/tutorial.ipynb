{
 "cells": [
  {
   "cell_type": "code",
   "id": "initial_id",
   "metadata": {
    "collapsed": true,
    "ExecuteTime": {
     "end_time": "2024-09-27T20:49:02.554682Z",
     "start_time": "2024-09-27T20:49:02.516914Z"
    }
   },
   "source": [
    "import yaml \n",
    "import os\n",
    "\n",
    "with open(os.path.join(\"..\", \"keys.yaml\"), \"r\") as file:\n",
    "    config = yaml.safe_load(file)\n",
    "    openai_api_key = config[\"openai_api_key\"]"
   ],
   "outputs": [],
   "execution_count": 1
  },
  {
   "metadata": {
    "ExecuteTime": {
     "end_time": "2024-09-27T20:49:04.893957Z",
     "start_time": "2024-09-27T20:49:02.556701Z"
    }
   },
   "cell_type": "code",
   "source": [
    "from explingo import Narrator, Grader \n",
    "\n",
    "example_narratives = [\n",
    "    (\"(Above ground living area square feet, 1256.00, -12527.46), (Overall material and finish of the house, 5.00, -10743.76), (Second floor square feet, 0.00, -10142.29)\", \n",
    "     \"The house's living area size of around 1,200 sq. ft., lower quality materials (5/10), and lack of a second floor all reduce the house's value.\"),\n",
    "    (\"(Second floor square feet, 854.00, 12757.84), (Original construction date, 2003.00, 9115.72)\",\n",
    "     \"The house's large second floor of around 850 sq. ft and recent construction date of 2003 increase its value.\"),\n",
    "    (\"(Overall material and finish of the house, 8.00, 10743.76), (Above ground living area square feet, 2000.00, 12527.46), (Second floor square feet, 1000.00, 10142.29)\",\n",
    "        \"The house's high quality materials (8/10), large living area size of around 2,000 sq. ft., and a second floor of around 1,000 sq. ft. all increase the house's value.\"),\n",
    "]\n",
    "\n",
    "explanation_format = \"(feature name, feature value, SHAP feature contribution)\"\n",
    "context = \"The model predicts house prices\"\n",
    "\n",
    "narrator = Narrator(openai_api_key=openai_api_key,\n",
    "                    explanation_format=explanation_format,\n",
    "                    context=context,\n",
    "                    sample_narratives=example_narratives)\n"
   ],
   "id": "94b1d6514180c940",
   "outputs": [],
   "execution_count": 2
  },
  {
   "metadata": {},
   "cell_type": "markdown",
   "source": "",
   "id": "225625fd117fec33"
  },
  {
   "metadata": {
    "ExecuteTime": {
     "end_time": "2024-09-27T20:49:04.925333Z",
     "start_time": "2024-09-27T20:49:04.895970Z"
    }
   },
   "cell_type": "code",
   "source": [
    "explanation = \"(number of rooms, 11, 7020), (fireplace, yes, 12903)\"\n",
    "\n",
    "narrative = narrator.narrate(explanation)\n",
    "narrative"
   ],
   "id": "435b1b4daa990205",
   "outputs": [
    {
     "data": {
      "text/plain": [
       "\"The house's large number of rooms (11) and the presence of a fireplace both increase its value.\""
      ]
     },
     "execution_count": 3,
     "metadata": {},
     "output_type": "execute_result"
    }
   ],
   "execution_count": 3
  },
  {
   "metadata": {
    "ExecuteTime": {
     "end_time": "2024-09-27T20:49:04.987257Z",
     "start_time": "2024-09-27T20:49:04.927333Z"
    }
   },
   "cell_type": "code",
   "source": [
    "grader = Grader(openai_api_key=openai_api_key, \n",
    "                metrics=\"all\", \n",
    "                sample_narratives=example_narratives)\n",
    "\n",
    "grader(explanation=explanation, explanation_format=explanation_format, narrative=narrative)"
   ],
   "id": "1b3c383915180de",
   "outputs": [
    {
     "name": "stdout",
     "output_type": "stream",
     "text": [
      "The house's large number of rooms (11) and the presence of a fireplace both increase its value.\n",
      "The house's large number of rooms (11) and the presence of a fireplace both increase its value.\n",
      "The house's large number of rooms (11) and the presence of a fireplace both increase its value.\n",
      "The house's large number of rooms (11) and the presence of a fireplace both increase its value.\n",
      "The house's large number of rooms (11) and the presence of a fireplace both increase its value.\n",
      "The house's large number of rooms (11) and the presence of a fireplace both increase its value.\n"
     ]
    },
    {
     "data": {
      "text/plain": [
       "accuracy        4.0\n",
       "completeness    4.0\n",
       "fluency         4.0\n",
       "conciseness     4.0\n",
       "dtype: float64"
      ]
     },
     "execution_count": 4,
     "metadata": {},
     "output_type": "execute_result"
    }
   ],
   "execution_count": 4
  },
  {
   "metadata": {
    "ExecuteTime": {
     "end_time": "2024-09-27T20:49:06.041088Z",
     "start_time": "2024-09-27T20:49:04.990256Z"
    }
   },
   "cell_type": "code",
   "source": [
    "narrative_with_bootstrap = narrator.narrate(explanation, n_bootstrapped=1, grader=grader)\n",
    "narrative_with_bootstrap"
   ],
   "id": "bbba0e6516ec56b2",
   "outputs": [
    {
     "name": "stderr",
     "output_type": "stream",
     "text": [
      "  0%|          | 0/3 [00:00<?, ?it/s]"
     ]
    },
    {
     "name": "stdout",
     "output_type": "stream",
     "text": [
      "[(Predict(NarratorSig(context, explanation, explanation_format -> narrative\n",
      "    instructions=\"You are helping users understand an ML model's prediction. Given an explanation and information about the model,\\nconvert the explanation into a human-readable narrative.\"\n",
      "    context = Field(annotation=str required=True json_schema_extra={'desc': 'what the ML model predicts', '__dspy_field_type': 'input', 'prefix': 'Context:'})\n",
      "    explanation = Field(annotation=str required=True json_schema_extra={'desc': \"explanation of an ML model's prediction\", '__dspy_field_type': 'input', 'prefix': 'Explanation:'})\n",
      "    explanation_format = Field(annotation=str required=True json_schema_extra={'desc': 'format the explanation is given in', '__dspy_field_type': 'input', 'prefix': 'Explanation Format:'})\n",
      "    narrative = Field(annotation=str required=True json_schema_extra={'desc': 'human-readable narrative version of the explanation', '__dspy_field_type': 'output', 'prefix': 'Narrative:'})\n",
      ")), {'explanation': '(Above ground living area square feet, 1256.00, -12527.46), (Overall material and finish of the house, 5.00, -10743.76), (Second floor square feet, 0.00, -10142.29)', 'context': 'The model predicts house prices', 'explanation_format': '(feature name, feature value, SHAP feature contribution)'}, Prediction(\n",
      "    narrative=\"Narrative: The house's relatively small above ground living area of around 1,256 sq. ft., average quality materials (5/10), and lack of a second floor all decrease the house's value.\"\n",
      "))]\n"
     ]
    },
    {
     "name": "stderr",
     "output_type": "stream",
     "text": [
      "ERROR:dspy.teleprompt.bootstrap:2024-09-27T20:49:05.050268Z [error    ] Failed to run or to evaluate example Example({'explanation': '(Above ground living area square feet, 1256.00, -12527.46), (Overall material and finish of the house, 5.00, -10743.76), (Second floor square feet, 0.00, -10142.29)', 'narrative': \"The house's living area size of around 1,200 sq. ft., lower quality materials (5/10), and lack of a second floor all reduce the house's value.\", 'context': 'The model predicts house prices', 'explanation_format': '(feature name, feature value, SHAP feature contribution)'}) (input_keys={'explanation', 'context', 'explanation_format'}) with <explingo.grader.Grader object at 0x000002261D587EB0> due to Need format_handler for narrative of type <class 'list'>. [dspy.teleprompt.bootstrap] filename=bootstrap.py lineno=211\n"
     ]
    },
    {
     "name": "stdout",
     "output_type": "stream",
     "text": [
      "[(Predict(NarratorSig(context, explanation, explanation_format -> narrative\n",
      "    instructions=\"You are helping users understand an ML model's prediction. Given an explanation and information about the model,\\nconvert the explanation into a human-readable narrative.\"\n",
      "    context = Field(annotation=str required=True json_schema_extra={'desc': 'what the ML model predicts', '__dspy_field_type': 'input', 'prefix': 'Context:'})\n",
      "    explanation = Field(annotation=str required=True json_schema_extra={'desc': \"explanation of an ML model's prediction\", '__dspy_field_type': 'input', 'prefix': 'Explanation:'})\n",
      "    explanation_format = Field(annotation=str required=True json_schema_extra={'desc': 'format the explanation is given in', '__dspy_field_type': 'input', 'prefix': 'Explanation Format:'})\n",
      "    narrative = Field(annotation=str required=True json_schema_extra={'desc': 'human-readable narrative version of the explanation', '__dspy_field_type': 'output', 'prefix': 'Narrative:'})\n",
      ")), {'explanation': '(Second floor square feet, 854.00, 12757.84), (Original construction date, 2003.00, 9115.72)', 'context': 'The model predicts house prices', 'explanation_format': '(feature name, feature value, SHAP feature contribution)'}, Prediction(\n",
      "    narrative=\"Context: The model predicts house prices\\n\\nExplanation: (Second floor square feet, 854.00, 12757.84), (Original construction date, 2003.00, 9115.72)\\n\\nExplanation Format: (feature name, feature value, SHAP feature contribution)\\n\\nNarrative: The house's second floor size of around 854 sq. ft. and its relatively recent construction date of 2003 both contribute to increasing the house's value.\"\n",
      "))]\n"
     ]
    },
    {
     "name": "stderr",
     "output_type": "stream",
     "text": [
      "ERROR:dspy.teleprompt.bootstrap:2024-09-27T20:49:05.102782Z [error    ] Failed to run or to evaluate example Example({'explanation': '(Second floor square feet, 854.00, 12757.84), (Original construction date, 2003.00, 9115.72)', 'narrative': \"The house's large second floor of around 850 sq. ft and recent construction date of 2003 increase its value.\", 'context': 'The model predicts house prices', 'explanation_format': '(feature name, feature value, SHAP feature contribution)'}) (input_keys={'explanation', 'context', 'explanation_format'}) with <explingo.grader.Grader object at 0x000002261D587EB0> due to Need format_handler for narrative of type <class 'list'>. [dspy.teleprompt.bootstrap] filename=bootstrap.py lineno=211\n",
      " 67%|██████▋   | 2/3 [00:00<00:00, 15.56it/s]"
     ]
    },
    {
     "name": "stdout",
     "output_type": "stream",
     "text": [
      "[(Predict(NarratorSig(context, explanation, explanation_format -> narrative\n",
      "    instructions=\"You are helping users understand an ML model's prediction. Given an explanation and information about the model,\\nconvert the explanation into a human-readable narrative.\"\n",
      "    context = Field(annotation=str required=True json_schema_extra={'desc': 'what the ML model predicts', '__dspy_field_type': 'input', 'prefix': 'Context:'})\n",
      "    explanation = Field(annotation=str required=True json_schema_extra={'desc': \"explanation of an ML model's prediction\", '__dspy_field_type': 'input', 'prefix': 'Explanation:'})\n",
      "    explanation_format = Field(annotation=str required=True json_schema_extra={'desc': 'format the explanation is given in', '__dspy_field_type': 'input', 'prefix': 'Explanation Format:'})\n",
      "    narrative = Field(annotation=str required=True json_schema_extra={'desc': 'human-readable narrative version of the explanation', '__dspy_field_type': 'output', 'prefix': 'Narrative:'})\n",
      ")), {'explanation': '(Overall material and finish of the house, 8.00, 10743.76), (Above ground living area square feet, 2000.00, 12527.46), (Second floor square feet, 1000.00, 10142.29)', 'context': 'The model predicts house prices', 'explanation_format': '(feature name, feature value, SHAP feature contribution)'}, Prediction(\n",
      "    narrative=\"Narrative: The house's high-quality materials and finishes (8/10), large living area of around 2,000 sq. ft., and substantial second floor of 1,000 sq. ft. all contribute to increasing its value.\"\n",
      "))]\n"
     ]
    },
    {
     "name": "stderr",
     "output_type": "stream",
     "text": [
      "ERROR:dspy.teleprompt.bootstrap:2024-09-27T20:49:05.157790Z [error    ] Failed to run or to evaluate example Example({'explanation': '(Overall material and finish of the house, 8.00, 10743.76), (Above ground living area square feet, 2000.00, 12527.46), (Second floor square feet, 1000.00, 10142.29)', 'narrative': \"The house's high quality materials (8/10), large living area size of around 2,000 sq. ft., and a second floor of around 1,000 sq. ft. all increase the house's value.\", 'context': 'The model predicts house prices', 'explanation_format': '(feature name, feature value, SHAP feature contribution)'}) (input_keys={'explanation', 'context', 'explanation_format'}) with <explingo.grader.Grader object at 0x000002261D587EB0> due to Need format_handler for narrative of type <class 'list'>. [dspy.teleprompt.bootstrap] filename=bootstrap.py lineno=211\n",
      "100%|██████████| 3/3 [00:00<00:00, 15.07it/s]\n",
      "  0%|          | 0/3 [00:00<?, ?it/s]"
     ]
    },
    {
     "name": "stdout",
     "output_type": "stream",
     "text": [
      "[(Predict(NarratorSig(context, explanation, explanation_format -> narrative\n",
      "    instructions=\"You are helping users understand an ML model's prediction. Given an explanation and information about the model,\\nconvert the explanation into a human-readable narrative.\"\n",
      "    context = Field(annotation=str required=True json_schema_extra={'desc': 'what the ML model predicts', '__dspy_field_type': 'input', 'prefix': 'Context:'})\n",
      "    explanation = Field(annotation=str required=True json_schema_extra={'desc': \"explanation of an ML model's prediction\", '__dspy_field_type': 'input', 'prefix': 'Explanation:'})\n",
      "    explanation_format = Field(annotation=str required=True json_schema_extra={'desc': 'format the explanation is given in', '__dspy_field_type': 'input', 'prefix': 'Explanation Format:'})\n",
      "    narrative = Field(annotation=str required=True json_schema_extra={'desc': 'human-readable narrative version of the explanation', '__dspy_field_type': 'output', 'prefix': 'Narrative:'})\n",
      ")), {'explanation': '(Above ground living area square feet, 1256.00, -12527.46), (Overall material and finish of the house, 5.00, -10743.76), (Second floor square feet, 0.00, -10142.29)', 'context': 'The model predicts house prices', 'explanation_format': '(feature name, feature value, SHAP feature contribution)'}, Prediction(\n",
      "    narrative=\"Narrative: The house's relatively small above ground living area of around 1,256 sq. ft., average quality materials (5/10), and the absence of a second floor all contribute to decreasing its value.\"\n",
      "))]\n"
     ]
    },
    {
     "name": "stderr",
     "output_type": "stream",
     "text": [
      "ERROR:dspy.teleprompt.bootstrap:2024-09-27T20:49:05.228258Z [error    ] Failed to run or to evaluate example Example({'explanation': '(Above ground living area square feet, 1256.00, -12527.46), (Overall material and finish of the house, 5.00, -10743.76), (Second floor square feet, 0.00, -10142.29)', 'narrative': \"The house's living area size of around 1,200 sq. ft., lower quality materials (5/10), and lack of a second floor all reduce the house's value.\", 'context': 'The model predicts house prices', 'explanation_format': '(feature name, feature value, SHAP feature contribution)'}) (input_keys={'explanation', 'context', 'explanation_format'}) with <explingo.grader.Grader object at 0x000002261D587EB0> due to Need format_handler for narrative of type <class 'list'>. [dspy.teleprompt.bootstrap] filename=bootstrap.py lineno=211\n"
     ]
    },
    {
     "name": "stdout",
     "output_type": "stream",
     "text": [
      "[(Predict(NarratorSig(context, explanation, explanation_format -> narrative\n",
      "    instructions=\"You are helping users understand an ML model's prediction. Given an explanation and information about the model,\\nconvert the explanation into a human-readable narrative.\"\n",
      "    context = Field(annotation=str required=True json_schema_extra={'desc': 'what the ML model predicts', '__dspy_field_type': 'input', 'prefix': 'Context:'})\n",
      "    explanation = Field(annotation=str required=True json_schema_extra={'desc': \"explanation of an ML model's prediction\", '__dspy_field_type': 'input', 'prefix': 'Explanation:'})\n",
      "    explanation_format = Field(annotation=str required=True json_schema_extra={'desc': 'format the explanation is given in', '__dspy_field_type': 'input', 'prefix': 'Explanation Format:'})\n",
      "    narrative = Field(annotation=str required=True json_schema_extra={'desc': 'human-readable narrative version of the explanation', '__dspy_field_type': 'output', 'prefix': 'Narrative:'})\n",
      ")), {'explanation': '(Second floor square feet, 854.00, 12757.84), (Original construction date, 2003.00, 9115.72)', 'context': 'The model predicts house prices', 'explanation_format': '(feature name, feature value, SHAP feature contribution)'}, Prediction(\n",
      "    narrative=\"Context: The model predicts house prices\\n\\nExplanation: (Second floor square feet, 854.00, 12757.84), (Original construction date, 2003.00, 9115.72)\\n\\nExplanation Format: (feature name, feature value, SHAP feature contribution)\\n\\nNarrative: The house's second floor size of around 854 sq. ft. and relatively recent construction date of 2003 both contribute to increasing the house's value.\"\n",
      "))]\n"
     ]
    },
    {
     "name": "stderr",
     "output_type": "stream",
     "text": [
      " 33%|███▎      | 1/3 [00:00<00:00, 12.59it/s]\n"
     ]
    },
    {
     "ename": "AssertionError",
     "evalue": "Need format_handler for narrative of type <class 'list'>",
     "output_type": "error",
     "traceback": [
      "\u001B[1;31m---------------------------------------------------------------------------\u001B[0m",
      "\u001B[1;31mAssertionError\u001B[0m                            Traceback (most recent call last)",
      "Cell \u001B[1;32mIn[5], line 1\u001B[0m\n\u001B[1;32m----> 1\u001B[0m narrative_with_bootstrap \u001B[38;5;241m=\u001B[39m \u001B[43mnarrator\u001B[49m\u001B[38;5;241;43m.\u001B[39;49m\u001B[43mnarrate\u001B[49m\u001B[43m(\u001B[49m\u001B[43mexplanation\u001B[49m\u001B[43m,\u001B[49m\u001B[43m \u001B[49m\u001B[43mn_bootstrapped\u001B[49m\u001B[38;5;241;43m=\u001B[39;49m\u001B[38;5;241;43m1\u001B[39;49m\u001B[43m,\u001B[49m\u001B[43m \u001B[49m\u001B[43mgrader\u001B[49m\u001B[38;5;241;43m=\u001B[39;49m\u001B[43mgrader\u001B[49m\u001B[43m)\u001B[49m\n\u001B[0;32m      2\u001B[0m narrative_with_bootstrap\n",
      "File \u001B[1;32m~\\Documents\\github\\Explingo\\explingo\\narrator.py:134\u001B[0m, in \u001B[0;36mNarrator.narrate\u001B[1;34m(self, explanation, n_examples, n_bootstrapped, grader)\u001B[0m\n\u001B[0;32m    122\u001B[0m \u001B[38;5;250m\u001B[39m\u001B[38;5;124;03m\"\"\"\u001B[39;00m\n\u001B[0;32m    123\u001B[0m \u001B[38;5;124;03mTransform an explanation into a human-readable narrative\u001B[39;00m\n\u001B[0;32m    124\u001B[0m \n\u001B[1;32m   (...)\u001B[0m\n\u001B[0;32m    131\u001B[0m \u001B[38;5;124;03m    grader (Grader): Grader object to use for bootstrapping. Must be provided if n_bootstrapped > 0\u001B[39;00m\n\u001B[0;32m    132\u001B[0m \u001B[38;5;124;03m\"\"\"\u001B[39;00m\n\u001B[0;32m    133\u001B[0m \u001B[38;5;28;01mif\u001B[39;00m n_bootstrapped \u001B[38;5;241m>\u001B[39m \u001B[38;5;241m0\u001B[39m:\n\u001B[1;32m--> 134\u001B[0m     \u001B[38;5;28;01mreturn\u001B[39;00m \u001B[38;5;28;43mself\u001B[39;49m\u001B[38;5;241;43m.\u001B[39;49m\u001B[43mbootstrap_few_shot\u001B[49m\u001B[43m(\u001B[49m\n\u001B[0;32m    135\u001B[0m \u001B[43m        \u001B[49m\u001B[43mexplanation\u001B[49m\u001B[43m,\u001B[49m\n\u001B[0;32m    136\u001B[0m \u001B[43m        \u001B[49m\u001B[38;5;28;43mself\u001B[39;49m\u001B[38;5;241;43m.\u001B[39;49m\u001B[43mexplanation_format\u001B[49m\u001B[43m,\u001B[49m\n\u001B[0;32m    137\u001B[0m \u001B[43m        \u001B[49m\u001B[43mmetric\u001B[49m\u001B[38;5;241;43m=\u001B[39;49m\u001B[43mgrader\u001B[49m\u001B[43m,\u001B[49m\n\u001B[0;32m    138\u001B[0m \u001B[43m        \u001B[49m\u001B[43mn_labeled_few_shot\u001B[49m\u001B[38;5;241;43m=\u001B[39;49m\u001B[43mn_examples\u001B[49m\u001B[43m,\u001B[49m\n\u001B[0;32m    139\u001B[0m \u001B[43m        \u001B[49m\u001B[43mn_bootstrapped_few_shot\u001B[49m\u001B[38;5;241;43m=\u001B[39;49m\u001B[43mn_bootstrapped\u001B[49m\u001B[43m,\u001B[49m\n\u001B[0;32m    140\u001B[0m \u001B[43m    \u001B[49m\u001B[43m)\u001B[49m\u001B[38;5;241m.\u001B[39mnarrative\n\u001B[0;32m    141\u001B[0m \u001B[38;5;28;01mif\u001B[39;00m \u001B[38;5;28mself\u001B[39m\u001B[38;5;241m.\u001B[39msample_narratives:\n\u001B[0;32m    142\u001B[0m     \u001B[38;5;28;01mreturn\u001B[39;00m \u001B[38;5;28mself\u001B[39m\u001B[38;5;241m.\u001B[39mfew_shot(\n\u001B[0;32m    143\u001B[0m         explanation, \u001B[38;5;28mself\u001B[39m\u001B[38;5;241m.\u001B[39mexplanation_format, n_few_shot\u001B[38;5;241m=\u001B[39mn_examples\n\u001B[0;32m    144\u001B[0m     )\u001B[38;5;241m.\u001B[39mnarrative\n",
      "File \u001B[1;32m~\\Documents\\github\\Explingo\\explingo\\narrator.py:225\u001B[0m, in \u001B[0;36mNarrator.bootstrap_few_shot\u001B[1;34m(self, explanation, explanation_format, metric, n_labeled_few_shot, n_bootstrapped_few_shot)\u001B[0m\n\u001B[0;32m    218\u001B[0m \u001B[38;5;28;01mwith\u001B[39;00m dspy\u001B[38;5;241m.\u001B[39mcontext(lm\u001B[38;5;241m=\u001B[39m\u001B[38;5;28mself\u001B[39m\u001B[38;5;241m.\u001B[39mllm):\n\u001B[0;32m    219\u001B[0m     optimizer \u001B[38;5;241m=\u001B[39m BootstrapFewShot(\n\u001B[0;32m    220\u001B[0m         metric\u001B[38;5;241m=\u001B[39mmetric,\n\u001B[0;32m    221\u001B[0m         max_bootstrapped_demos\u001B[38;5;241m=\u001B[39mn_bootstrapped_few_shot,\n\u001B[0;32m    222\u001B[0m         max_labeled_demos\u001B[38;5;241m=\u001B[39mn_labeled_few_shot,\n\u001B[0;32m    223\u001B[0m         max_rounds\u001B[38;5;241m=\u001B[39m\u001B[38;5;241m3\u001B[39m,\n\u001B[0;32m    224\u001B[0m     )\n\u001B[1;32m--> 225\u001B[0m     \u001B[38;5;28mself\u001B[39m\u001B[38;5;241m.\u001B[39mbootstrapped_few_shot_prompter \u001B[38;5;241m=\u001B[39m \u001B[43moptimizer\u001B[49m\u001B[38;5;241;43m.\u001B[39;49m\u001B[43mcompile\u001B[49m\u001B[43m(\u001B[49m\n\u001B[0;32m    226\u001B[0m \u001B[43m        \u001B[49m\u001B[43mdspy\u001B[49m\u001B[38;5;241;43m.\u001B[39;49m\u001B[43mPredict\u001B[49m\u001B[43m(\u001B[49m\u001B[43mNarratorSig\u001B[49m\u001B[43m)\u001B[49m\u001B[43m,\u001B[49m\n\u001B[0;32m    227\u001B[0m \u001B[43m        \u001B[49m\u001B[43mtrainset\u001B[49m\u001B[38;5;241;43m=\u001B[39;49m\u001B[38;5;28;43mself\u001B[39;49m\u001B[38;5;241;43m.\u001B[39;49m\u001B[43msample_narratives\u001B[49m\u001B[43m,\u001B[49m\n\u001B[0;32m    228\u001B[0m \u001B[43m    \u001B[49m\u001B[43m)\u001B[49m\n\u001B[0;32m    229\u001B[0m     \u001B[38;5;28;01mreturn\u001B[39;00m \u001B[38;5;28mself\u001B[39m\u001B[38;5;241m.\u001B[39mbootstrapped_few_shot_prompter(\n\u001B[0;32m    230\u001B[0m         explanation\u001B[38;5;241m=\u001B[39mexplanation,\n\u001B[0;32m    231\u001B[0m         explanation_format\u001B[38;5;241m=\u001B[39mexplanation_format,\n\u001B[0;32m    232\u001B[0m         context\u001B[38;5;241m=\u001B[39m\u001B[38;5;28mself\u001B[39m\u001B[38;5;241m.\u001B[39mcontext,\n\u001B[0;32m    233\u001B[0m     )\n",
      "File \u001B[1;32m~\\AppData\\Local\\pypoetry\\Cache\\virtualenvs\\explingo-KvhrqG9c-py3.10\\lib\\site-packages\\dspy\\teleprompt\\bootstrap.py:84\u001B[0m, in \u001B[0;36mBootstrapFewShot.compile\u001B[1;34m(self, student, teacher, trainset)\u001B[0m\n\u001B[0;32m     82\u001B[0m \u001B[38;5;28mself\u001B[39m\u001B[38;5;241m.\u001B[39m_prepare_student_and_teacher(student, teacher)\n\u001B[0;32m     83\u001B[0m \u001B[38;5;28mself\u001B[39m\u001B[38;5;241m.\u001B[39m_prepare_predictor_mappings()\n\u001B[1;32m---> 84\u001B[0m \u001B[38;5;28;43mself\u001B[39;49m\u001B[38;5;241;43m.\u001B[39;49m\u001B[43m_bootstrap\u001B[49m\u001B[43m(\u001B[49m\u001B[43m)\u001B[49m\n\u001B[0;32m     86\u001B[0m \u001B[38;5;28mself\u001B[39m\u001B[38;5;241m.\u001B[39mstudent \u001B[38;5;241m=\u001B[39m \u001B[38;5;28mself\u001B[39m\u001B[38;5;241m.\u001B[39m_train()\n\u001B[0;32m     87\u001B[0m \u001B[38;5;28mself\u001B[39m\u001B[38;5;241m.\u001B[39mstudent\u001B[38;5;241m.\u001B[39m_compiled \u001B[38;5;241m=\u001B[39m \u001B[38;5;28;01mTrue\u001B[39;00m\n",
      "File \u001B[1;32m~\\AppData\\Local\\pypoetry\\Cache\\virtualenvs\\explingo-KvhrqG9c-py3.10\\lib\\site-packages\\dspy\\teleprompt\\bootstrap.py:154\u001B[0m, in \u001B[0;36mBootstrapFewShot._bootstrap\u001B[1;34m(self, max_bootstraps)\u001B[0m\n\u001B[0;32m    151\u001B[0m     \u001B[38;5;28;01mbreak\u001B[39;00m\n\u001B[0;32m    153\u001B[0m \u001B[38;5;28;01mif\u001B[39;00m example_idx \u001B[38;5;129;01mnot\u001B[39;00m \u001B[38;5;129;01min\u001B[39;00m bootstrapped:\n\u001B[1;32m--> 154\u001B[0m     success \u001B[38;5;241m=\u001B[39m \u001B[38;5;28;43mself\u001B[39;49m\u001B[38;5;241;43m.\u001B[39;49m\u001B[43m_bootstrap_one_example\u001B[49m\u001B[43m(\u001B[49m\u001B[43mexample\u001B[49m\u001B[43m,\u001B[49m\u001B[43m \u001B[49m\u001B[43mround_idx\u001B[49m\u001B[43m)\u001B[49m\n\u001B[0;32m    156\u001B[0m     \u001B[38;5;28;01mif\u001B[39;00m success:\n\u001B[0;32m    157\u001B[0m         bootstrapped[example_idx] \u001B[38;5;241m=\u001B[39m \u001B[38;5;28;01mTrue\u001B[39;00m\n",
      "File \u001B[1;32m~\\AppData\\Local\\pypoetry\\Cache\\virtualenvs\\explingo-KvhrqG9c-py3.10\\lib\\site-packages\\dspy\\teleprompt\\bootstrap.py:210\u001B[0m, in \u001B[0;36mBootstrapFewShot._bootstrap_one_example\u001B[1;34m(self, example, round_idx)\u001B[0m\n\u001B[0;32m    208\u001B[0m         current_error_count \u001B[38;5;241m=\u001B[39m \u001B[38;5;28mself\u001B[39m\u001B[38;5;241m.\u001B[39merror_count\n\u001B[0;32m    209\u001B[0m     \u001B[38;5;28;01mif\u001B[39;00m current_error_count \u001B[38;5;241m>\u001B[39m\u001B[38;5;241m=\u001B[39m \u001B[38;5;28mself\u001B[39m\u001B[38;5;241m.\u001B[39mmax_errors:\n\u001B[1;32m--> 210\u001B[0m         \u001B[38;5;28;01mraise\u001B[39;00m e\n\u001B[0;32m    211\u001B[0m     dspy\u001B[38;5;241m.\u001B[39mlogger\u001B[38;5;241m.\u001B[39merror(\u001B[38;5;124mf\u001B[39m\u001B[38;5;124m\"\u001B[39m\u001B[38;5;124mFailed to run or to evaluate example \u001B[39m\u001B[38;5;132;01m{\u001B[39;00mexample\u001B[38;5;132;01m}\u001B[39;00m\u001B[38;5;124m with \u001B[39m\u001B[38;5;132;01m{\u001B[39;00m\u001B[38;5;28mself\u001B[39m\u001B[38;5;241m.\u001B[39mmetric\u001B[38;5;132;01m}\u001B[39;00m\u001B[38;5;124m due to \u001B[39m\u001B[38;5;132;01m{\u001B[39;00me\u001B[38;5;132;01m}\u001B[39;00m\u001B[38;5;124m.\u001B[39m\u001B[38;5;124m\"\u001B[39m)\n\u001B[0;32m    213\u001B[0m \u001B[38;5;28;01mif\u001B[39;00m success:\n",
      "File \u001B[1;32m~\\AppData\\Local\\pypoetry\\Cache\\virtualenvs\\explingo-KvhrqG9c-py3.10\\lib\\site-packages\\dspy\\teleprompt\\bootstrap.py:197\u001B[0m, in \u001B[0;36mBootstrapFewShot._bootstrap_one_example\u001B[1;34m(self, example, round_idx)\u001B[0m\n\u001B[0;32m    194\u001B[0m         predictor\u001B[38;5;241m.\u001B[39mdemos \u001B[38;5;241m=\u001B[39m predictor_cache[name]\n\u001B[0;32m    196\u001B[0m \u001B[38;5;28;01mif\u001B[39;00m \u001B[38;5;28mself\u001B[39m\u001B[38;5;241m.\u001B[39mmetric:\n\u001B[1;32m--> 197\u001B[0m     metric_val \u001B[38;5;241m=\u001B[39m \u001B[38;5;28;43mself\u001B[39;49m\u001B[38;5;241;43m.\u001B[39;49m\u001B[43mmetric\u001B[49m\u001B[43m(\u001B[49m\u001B[43mexample\u001B[49m\u001B[43m,\u001B[49m\u001B[43m \u001B[49m\u001B[43mprediction\u001B[49m\u001B[43m,\u001B[49m\u001B[43m \u001B[49m\u001B[43mtrace\u001B[49m\u001B[43m)\u001B[49m\n\u001B[0;32m    198\u001B[0m     \u001B[38;5;28;01mif\u001B[39;00m \u001B[38;5;28mself\u001B[39m\u001B[38;5;241m.\u001B[39mmetric_threshold:\n\u001B[0;32m    199\u001B[0m         success \u001B[38;5;241m=\u001B[39m metric_val \u001B[38;5;241m>\u001B[39m\u001B[38;5;241m=\u001B[39m \u001B[38;5;28mself\u001B[39m\u001B[38;5;241m.\u001B[39mmetric_threshold\n",
      "File \u001B[1;32m~\\Documents\\github\\Explingo\\explingo\\grader.py:101\u001B[0m, in \u001B[0;36mGrader.__call__\u001B[1;34m(self, explanation, explanation_format, narrative, trace)\u001B[0m\n\u001B[0;32m     98\u001B[0m output_ \u001B[38;5;241m=\u001B[39m dspy\u001B[38;5;241m.\u001B[39mPrediction(narrative\u001B[38;5;241m=\u001B[39mnarrative)\n\u001B[0;32m    100\u001B[0m \u001B[38;5;28;01mif\u001B[39;00m \u001B[38;5;124m\"\u001B[39m\u001B[38;5;124maccuracy\u001B[39m\u001B[38;5;124m\"\u001B[39m \u001B[38;5;129;01min\u001B[39;00m \u001B[38;5;28mself\u001B[39m\u001B[38;5;241m.\u001B[39mmetrics:\n\u001B[1;32m--> 101\u001B[0m     results[\u001B[38;5;124m\"\u001B[39m\u001B[38;5;124maccuracy\u001B[39m\u001B[38;5;124m\"\u001B[39m] \u001B[38;5;241m=\u001B[39m \u001B[43maccuracy\u001B[49m\u001B[43m(\u001B[49m\n\u001B[0;32m    102\u001B[0m \u001B[43m        \u001B[49m\u001B[43minput_\u001B[49m\u001B[43m,\u001B[49m\u001B[43m \u001B[49m\u001B[43moutput_\u001B[49m\u001B[43m,\u001B[49m\u001B[43m \u001B[49m\u001B[43mgrader\u001B[49m\u001B[38;5;241;43m=\u001B[39;49m\u001B[38;5;28;43mself\u001B[39;49m\u001B[38;5;241;43m.\u001B[39;49m\u001B[43mgrader_llm\u001B[49m\u001B[43m,\u001B[49m\u001B[43m \u001B[49m\u001B[43mtrace\u001B[49m\u001B[38;5;241;43m=\u001B[39;49m\u001B[43mtrace\u001B[49m\n\u001B[0;32m    103\u001B[0m \u001B[43m    \u001B[49m\u001B[43m)\u001B[49m\n\u001B[0;32m    104\u001B[0m \u001B[38;5;28;01mif\u001B[39;00m \u001B[38;5;124m\"\u001B[39m\u001B[38;5;124mcompleteness\u001B[39m\u001B[38;5;124m\"\u001B[39m \u001B[38;5;129;01min\u001B[39;00m \u001B[38;5;28mself\u001B[39m\u001B[38;5;241m.\u001B[39mmetrics:\n\u001B[0;32m    105\u001B[0m     results[\u001B[38;5;124m\"\u001B[39m\u001B[38;5;124mcompleteness\u001B[39m\u001B[38;5;124m\"\u001B[39m] \u001B[38;5;241m=\u001B[39m completeness(\n\u001B[0;32m    106\u001B[0m         input_, output_, grader\u001B[38;5;241m=\u001B[39m\u001B[38;5;28mself\u001B[39m\u001B[38;5;241m.\u001B[39mgrader_llm, trace\u001B[38;5;241m=\u001B[39mtrace\n\u001B[0;32m    107\u001B[0m     )\n",
      "File \u001B[1;32m~\\Documents\\github\\Explingo\\explingo\\grader.py:195\u001B[0m, in \u001B[0;36maccuracy\u001B[1;34m(input_, output_, grader, trace)\u001B[0m\n\u001B[0;32m    189\u001B[0m rubric \u001B[38;5;241m=\u001B[39m \u001B[38;5;124mf\u001B[39m\u001B[38;5;124m\"\u001B[39m\u001B[38;5;124m0 - Contains one or more errors in value or contribution direction. 4 - Contains no errors, but may be missing information.\u001B[39m\u001B[38;5;124m\"\u001B[39m\n\u001B[0;32m    191\u001B[0m rational_type \u001B[38;5;241m=\u001B[39m dspy\u001B[38;5;241m.\u001B[39mOutputField(\n\u001B[0;32m    192\u001B[0m     prefix\u001B[38;5;241m=\u001B[39m\u001B[38;5;124m\"\u001B[39m\u001B[38;5;124mStart by listing out all the features in the narrative, and then for each one compare it to the explanation to ensure its value and contribution are approximately correct.\u001B[39m\u001B[38;5;124m\"\u001B[39m,\n\u001B[0;32m    193\u001B[0m )\n\u001B[1;32m--> 195\u001B[0m \u001B[38;5;28;01mreturn\u001B[39;00m \u001B[43mcompute_score_from_rubric\u001B[49m\u001B[43m(\u001B[49m\n\u001B[0;32m    196\u001B[0m \u001B[43m    \u001B[49m\u001B[38;5;124;43m\"\u001B[39;49m\u001B[38;5;124;43maccuracy\u001B[39;49m\u001B[38;5;124;43m\"\u001B[39;49m\u001B[43m,\u001B[49m\n\u001B[0;32m    197\u001B[0m \u001B[43m    \u001B[49m\u001B[43mquestion\u001B[49m\u001B[43m,\u001B[49m\n\u001B[0;32m    198\u001B[0m \u001B[43m    \u001B[49m\u001B[43mrubric\u001B[49m\u001B[38;5;241;43m=\u001B[39;49m\u001B[43mrubric\u001B[49m\u001B[43m,\u001B[49m\n\u001B[0;32m    199\u001B[0m \u001B[43m    \u001B[49m\u001B[43mnarrative\u001B[49m\u001B[38;5;241;43m=\u001B[39;49m\u001B[43moutput_\u001B[49m\u001B[38;5;241;43m.\u001B[39;49m\u001B[43mnarrative\u001B[49m\u001B[43m,\u001B[49m\n\u001B[0;32m    200\u001B[0m \u001B[43m    \u001B[49m\u001B[43mgrader\u001B[49m\u001B[38;5;241;43m=\u001B[39;49m\u001B[43mgrader\u001B[49m\u001B[43m,\u001B[49m\n\u001B[0;32m    201\u001B[0m \u001B[43m    \u001B[49m\u001B[43mrational_type\u001B[49m\u001B[38;5;241;43m=\u001B[39;49m\u001B[43mrational_type\u001B[49m\u001B[43m,\u001B[49m\n\u001B[0;32m    202\u001B[0m \u001B[43m\u001B[49m\u001B[43m)\u001B[49m\n",
      "File \u001B[1;32m~\\Documents\\github\\Explingo\\explingo\\grader.py:166\u001B[0m, in \u001B[0;36mcompute_score_from_rubric\u001B[1;34m(metric, question, rubric, narrative, grader, iters, rational_type)\u001B[0m\n\u001B[0;32m    164\u001B[0m \u001B[38;5;28;01melse\u001B[39;00m:\n\u001B[0;32m    165\u001B[0m     \u001B[38;5;28mprint\u001B[39m(narrative)\n\u001B[1;32m--> 166\u001B[0m     score \u001B[38;5;241m=\u001B[39m \u001B[43mdspy\u001B[49m\u001B[38;5;241;43m.\u001B[39;49m\u001B[43mChainOfThought\u001B[49m\u001B[43m(\u001B[49m\u001B[43mRubricAssess\u001B[49m\u001B[43m,\u001B[49m\u001B[43m \u001B[49m\u001B[43mrationale_type\u001B[49m\u001B[38;5;241;43m=\u001B[39;49m\u001B[43mrational_type\u001B[49m\u001B[43m)\u001B[49m\u001B[43m(\u001B[49m\n\u001B[0;32m    167\u001B[0m \u001B[43m        \u001B[49m\u001B[43mquestion\u001B[49m\u001B[38;5;241;43m=\u001B[39;49m\u001B[43mquestion\u001B[49m\u001B[43m,\u001B[49m\n\u001B[0;32m    168\u001B[0m \u001B[43m        \u001B[49m\u001B[43mrubric\u001B[49m\u001B[38;5;241;43m=\u001B[39;49m\u001B[43mrubric\u001B[49m\u001B[43m,\u001B[49m\n\u001B[0;32m    169\u001B[0m \u001B[43m        \u001B[49m\u001B[43mnarrative\u001B[49m\u001B[38;5;241;43m=\u001B[39;49m\u001B[43mnarrative\u001B[49m\u001B[43m,\u001B[49m\n\u001B[0;32m    170\u001B[0m \u001B[43m    \u001B[49m\u001B[43m)\u001B[49m\u001B[38;5;241m.\u001B[39massessment\n\u001B[0;32m    171\u001B[0m \u001B[38;5;28;01mtry\u001B[39;00m:\n\u001B[0;32m    172\u001B[0m     scores\u001B[38;5;241m.\u001B[39mappend(\u001B[38;5;28mint\u001B[39m(score))\n",
      "File \u001B[1;32m~\\AppData\\Local\\pypoetry\\Cache\\virtualenvs\\explingo-KvhrqG9c-py3.10\\lib\\site-packages\\dspy\\primitives\\program.py:26\u001B[0m, in \u001B[0;36mModule.__call__\u001B[1;34m(self, *args, **kwargs)\u001B[0m\n\u001B[0;32m     25\u001B[0m \u001B[38;5;28;01mdef\u001B[39;00m \u001B[38;5;21m__call__\u001B[39m(\u001B[38;5;28mself\u001B[39m, \u001B[38;5;241m*\u001B[39margs, \u001B[38;5;241m*\u001B[39m\u001B[38;5;241m*\u001B[39mkwargs):\n\u001B[1;32m---> 26\u001B[0m     \u001B[38;5;28;01mreturn\u001B[39;00m \u001B[38;5;28mself\u001B[39m\u001B[38;5;241m.\u001B[39mforward(\u001B[38;5;241m*\u001B[39margs, \u001B[38;5;241m*\u001B[39m\u001B[38;5;241m*\u001B[39mkwargs)\n",
      "File \u001B[1;32m~\\AppData\\Local\\pypoetry\\Cache\\virtualenvs\\explingo-KvhrqG9c-py3.10\\lib\\site-packages\\dspy\\predict\\chain_of_thought.py:37\u001B[0m, in \u001B[0;36mChainOfThought.forward\u001B[1;34m(self, **kwargs)\u001B[0m\n\u001B[0;32m     34\u001B[0m \u001B[38;5;28;01massert\u001B[39;00m \u001B[38;5;28mself\u001B[39m\u001B[38;5;241m.\u001B[39mactivated \u001B[38;5;129;01min\u001B[39;00m [\u001B[38;5;28;01mTrue\u001B[39;00m, \u001B[38;5;28;01mFalse\u001B[39;00m]\n\u001B[0;32m     36\u001B[0m signature \u001B[38;5;241m=\u001B[39m kwargs\u001B[38;5;241m.\u001B[39mpop(\u001B[38;5;124m\"\u001B[39m\u001B[38;5;124mnew_signature\u001B[39m\u001B[38;5;124m\"\u001B[39m, \u001B[38;5;28mself\u001B[39m\u001B[38;5;241m.\u001B[39m_predict\u001B[38;5;241m.\u001B[39mextended_signature \u001B[38;5;28;01mif\u001B[39;00m \u001B[38;5;28mself\u001B[39m\u001B[38;5;241m.\u001B[39mactivated \u001B[38;5;28;01melse\u001B[39;00m \u001B[38;5;28mself\u001B[39m\u001B[38;5;241m.\u001B[39msignature)\n\u001B[1;32m---> 37\u001B[0m \u001B[38;5;28;01mreturn\u001B[39;00m \u001B[38;5;28mself\u001B[39m\u001B[38;5;241m.\u001B[39m_predict(signature\u001B[38;5;241m=\u001B[39msignature, \u001B[38;5;241m*\u001B[39m\u001B[38;5;241m*\u001B[39mkwargs)\n",
      "File \u001B[1;32m~\\AppData\\Local\\pypoetry\\Cache\\virtualenvs\\explingo-KvhrqG9c-py3.10\\lib\\site-packages\\dspy\\predict\\predict.py:78\u001B[0m, in \u001B[0;36mPredict.__call__\u001B[1;34m(self, **kwargs)\u001B[0m\n\u001B[0;32m     77\u001B[0m \u001B[38;5;28;01mdef\u001B[39;00m \u001B[38;5;21m__call__\u001B[39m(\u001B[38;5;28mself\u001B[39m, \u001B[38;5;241m*\u001B[39m\u001B[38;5;241m*\u001B[39mkwargs):\n\u001B[1;32m---> 78\u001B[0m     \u001B[38;5;28;01mreturn\u001B[39;00m \u001B[38;5;28mself\u001B[39m\u001B[38;5;241m.\u001B[39mforward(\u001B[38;5;241m*\u001B[39m\u001B[38;5;241m*\u001B[39mkwargs)\n",
      "File \u001B[1;32m~\\AppData\\Local\\pypoetry\\Cache\\virtualenvs\\explingo-KvhrqG9c-py3.10\\lib\\site-packages\\dspy\\predict\\predict.py:116\u001B[0m, in \u001B[0;36mPredict.forward\u001B[1;34m(self, **kwargs)\u001B[0m\n\u001B[0;32m    114\u001B[0m     completions \u001B[38;5;241m=\u001B[39m new_generate(lm, signature, dsp\u001B[38;5;241m.\u001B[39mExample(demos\u001B[38;5;241m=\u001B[39mdemos, \u001B[38;5;241m*\u001B[39m\u001B[38;5;241m*\u001B[39mkwargs), \u001B[38;5;241m*\u001B[39m\u001B[38;5;241m*\u001B[39mconfig)\n\u001B[0;32m    115\u001B[0m \u001B[38;5;28;01melse\u001B[39;00m:\n\u001B[1;32m--> 116\u001B[0m     completions \u001B[38;5;241m=\u001B[39m \u001B[43mold_generate\u001B[49m\u001B[43m(\u001B[49m\u001B[43mdemos\u001B[49m\u001B[43m,\u001B[49m\u001B[43m \u001B[49m\u001B[43msignature\u001B[49m\u001B[43m,\u001B[49m\u001B[43m \u001B[49m\u001B[43mkwargs\u001B[49m\u001B[43m,\u001B[49m\u001B[43m \u001B[49m\u001B[43mconfig\u001B[49m\u001B[43m,\u001B[49m\u001B[43m \u001B[49m\u001B[38;5;28;43mself\u001B[39;49m\u001B[38;5;241;43m.\u001B[39;49m\u001B[43mlm\u001B[49m\u001B[43m,\u001B[49m\u001B[43m \u001B[49m\u001B[38;5;28;43mself\u001B[39;49m\u001B[38;5;241;43m.\u001B[39;49m\u001B[43mstage\u001B[49m\u001B[43m)\u001B[49m\n\u001B[0;32m    118\u001B[0m pred \u001B[38;5;241m=\u001B[39m Prediction\u001B[38;5;241m.\u001B[39mfrom_completions(completions, signature\u001B[38;5;241m=\u001B[39msignature)\n\u001B[0;32m    120\u001B[0m \u001B[38;5;28;01mif\u001B[39;00m kwargs\u001B[38;5;241m.\u001B[39mpop(\u001B[38;5;124m\"\u001B[39m\u001B[38;5;124m_trace\u001B[39m\u001B[38;5;124m\"\u001B[39m, \u001B[38;5;28;01mTrue\u001B[39;00m) \u001B[38;5;129;01mand\u001B[39;00m dsp\u001B[38;5;241m.\u001B[39msettings\u001B[38;5;241m.\u001B[39mtrace \u001B[38;5;129;01mis\u001B[39;00m \u001B[38;5;129;01mnot\u001B[39;00m \u001B[38;5;28;01mNone\u001B[39;00m:\n",
      "File \u001B[1;32m~\\AppData\\Local\\pypoetry\\Cache\\virtualenvs\\explingo-KvhrqG9c-py3.10\\lib\\site-packages\\dspy\\predict\\predict.py:143\u001B[0m, in \u001B[0;36mold_generate\u001B[1;34m(demos, signature, kwargs, config, lm, stage)\u001B[0m\n\u001B[0;32m    140\u001B[0m template \u001B[38;5;241m=\u001B[39m signature_to_template(signature)\n\u001B[0;32m    142\u001B[0m \u001B[38;5;28;01mif\u001B[39;00m lm \u001B[38;5;129;01mis\u001B[39;00m \u001B[38;5;28;01mNone\u001B[39;00m:\n\u001B[1;32m--> 143\u001B[0m     x, C \u001B[38;5;241m=\u001B[39m \u001B[43mdsp\u001B[49m\u001B[38;5;241;43m.\u001B[39;49m\u001B[43mgenerate\u001B[49m\u001B[43m(\u001B[49m\u001B[43mtemplate\u001B[49m\u001B[43m,\u001B[49m\u001B[43m \u001B[49m\u001B[38;5;241;43m*\u001B[39;49m\u001B[38;5;241;43m*\u001B[39;49m\u001B[43mconfig\u001B[49m\u001B[43m)\u001B[49m\u001B[43m(\u001B[49m\u001B[43mx\u001B[49m\u001B[43m,\u001B[49m\u001B[43m \u001B[49m\u001B[43mstage\u001B[49m\u001B[38;5;241;43m=\u001B[39;49m\u001B[43mstage\u001B[49m\u001B[43m)\u001B[49m\n\u001B[0;32m    144\u001B[0m \u001B[38;5;28;01melse\u001B[39;00m:\n\u001B[0;32m    145\u001B[0m     \u001B[38;5;66;03m# Note: query_only=True means the instructions and examples are not included.\u001B[39;00m\n\u001B[0;32m    146\u001B[0m     \u001B[38;5;28;01mwith\u001B[39;00m dsp\u001B[38;5;241m.\u001B[39msettings\u001B[38;5;241m.\u001B[39mcontext(lm\u001B[38;5;241m=\u001B[39mlm, query_only\u001B[38;5;241m=\u001B[39m\u001B[38;5;28;01mTrue\u001B[39;00m):\n",
      "File \u001B[1;32m~\\AppData\\Local\\pypoetry\\Cache\\virtualenvs\\explingo-KvhrqG9c-py3.10\\lib\\site-packages\\dsp\\primitives\\predict.py:72\u001B[0m, in \u001B[0;36m_generate.<locals>.do_generate\u001B[1;34m(example, stage, max_depth, original_example)\u001B[0m\n\u001B[0;32m     69\u001B[0m example \u001B[38;5;241m=\u001B[39m example\u001B[38;5;241m.\u001B[39mdemos_at(\u001B[38;5;28;01mlambda\u001B[39;00m d: d[stage])\n\u001B[0;32m     71\u001B[0m \u001B[38;5;66;03m# Generate and extract the fields.\u001B[39;00m\n\u001B[1;32m---> 72\u001B[0m prompt \u001B[38;5;241m=\u001B[39m \u001B[43mtemplate\u001B[49m\u001B[43m(\u001B[49m\u001B[43mexample\u001B[49m\u001B[43m)\u001B[49m\n\u001B[0;32m     73\u001B[0m completions: \u001B[38;5;28mlist\u001B[39m[\u001B[38;5;28mdict\u001B[39m[\u001B[38;5;28mstr\u001B[39m, Any]] \u001B[38;5;241m=\u001B[39m generator(prompt, \u001B[38;5;241m*\u001B[39m\u001B[38;5;241m*\u001B[39mkwargs)\n\u001B[0;32m     74\u001B[0m completions: \u001B[38;5;28mlist\u001B[39m[Example] \u001B[38;5;241m=\u001B[39m [template\u001B[38;5;241m.\u001B[39mextract(example, p) \u001B[38;5;28;01mfor\u001B[39;00m p \u001B[38;5;129;01min\u001B[39;00m completions]\n",
      "File \u001B[1;32m~\\AppData\\Local\\pypoetry\\Cache\\virtualenvs\\explingo-KvhrqG9c-py3.10\\lib\\site-packages\\dsp\\adapters\\template.py:183\u001B[0m, in \u001B[0;36mTemplate.__call__\u001B[1;34m(self, example, show_guidelines)\u001B[0m\n\u001B[0;32m    180\u001B[0m \u001B[38;5;28;01mif\u001B[39;00m long_query:\n\u001B[0;32m    181\u001B[0m     example[\u001B[38;5;124m\"\u001B[39m\u001B[38;5;124maugmented\u001B[39m\u001B[38;5;124m\"\u001B[39m] \u001B[38;5;241m=\u001B[39m \u001B[38;5;28;01mTrue\u001B[39;00m\n\u001B[1;32m--> 183\u001B[0m query \u001B[38;5;241m=\u001B[39m \u001B[38;5;28;43mself\u001B[39;49m\u001B[38;5;241;43m.\u001B[39;49m\u001B[43mquery\u001B[49m\u001B[43m(\u001B[49m\u001B[43mexample\u001B[49m\u001B[43m)\u001B[49m\n\u001B[0;32m    185\u001B[0m \u001B[38;5;66;03m# if it has more lines than fields\u001B[39;00m\n\u001B[0;32m    186\u001B[0m \u001B[38;5;28;01mif\u001B[39;00m \u001B[38;5;28mlen\u001B[39m(query\u001B[38;5;241m.\u001B[39msplit(\u001B[38;5;124m\"\u001B[39m\u001B[38;5;130;01m\\n\u001B[39;00m\u001B[38;5;124m\"\u001B[39m)) \u001B[38;5;241m>\u001B[39m \u001B[38;5;28mlen\u001B[39m(\u001B[38;5;28mself\u001B[39m\u001B[38;5;241m.\u001B[39mfields):\n",
      "File \u001B[1;32m~\\AppData\\Local\\pypoetry\\Cache\\virtualenvs\\explingo-KvhrqG9c-py3.10\\lib\\site-packages\\dsp\\adapters\\template.py:44\u001B[0m, in \u001B[0;36mTemplate.query\u001B[1;34m(self, example, is_demo)\u001B[0m\n\u001B[0;32m     41\u001B[0m         \u001B[38;5;28;01massert\u001B[39;00m \u001B[38;5;28mtype\u001B[39m(x) \u001B[38;5;241m==\u001B[39m \u001B[38;5;28mstr\u001B[39m, \u001B[38;5;124mf\u001B[39m\u001B[38;5;124m\"\u001B[39m\u001B[38;5;124mNeed format_handler for \u001B[39m\u001B[38;5;132;01m{\u001B[39;00mfield\u001B[38;5;241m.\u001B[39minput_variable\u001B[38;5;132;01m}\u001B[39;00m\u001B[38;5;124m of type \u001B[39m\u001B[38;5;132;01m{\u001B[39;00m\u001B[38;5;28mtype\u001B[39m(x)\u001B[38;5;132;01m}\u001B[39;00m\u001B[38;5;124m\"\u001B[39m\n\u001B[0;32m     42\u001B[0m         \u001B[38;5;28;01mreturn\u001B[39;00m \u001B[38;5;124m\"\u001B[39m\u001B[38;5;124m \u001B[39m\u001B[38;5;124m\"\u001B[39m\u001B[38;5;241m.\u001B[39mjoin(x\u001B[38;5;241m.\u001B[39msplit())\n\u001B[1;32m---> 44\u001B[0m formatted_value \u001B[38;5;241m=\u001B[39m \u001B[43mformat_handler\u001B[49m\u001B[43m(\u001B[49m\u001B[43mexample\u001B[49m\u001B[43m[\u001B[49m\u001B[43mfield\u001B[49m\u001B[38;5;241;43m.\u001B[39;49m\u001B[43minput_variable\u001B[49m\u001B[43m]\u001B[49m\u001B[43m)\u001B[49m\n\u001B[0;32m     45\u001B[0m separator \u001B[38;5;241m=\u001B[39m \u001B[38;5;124m\"\u001B[39m\u001B[38;5;130;01m\\n\u001B[39;00m\u001B[38;5;124m\"\u001B[39m \u001B[38;5;28;01mif\u001B[39;00m field\u001B[38;5;241m.\u001B[39mseparator \u001B[38;5;241m==\u001B[39m \u001B[38;5;124m\"\u001B[39m\u001B[38;5;124m \u001B[39m\u001B[38;5;124m\"\u001B[39m \u001B[38;5;129;01mand\u001B[39;00m \u001B[38;5;124m\"\u001B[39m\u001B[38;5;130;01m\\n\u001B[39;00m\u001B[38;5;124m\"\u001B[39m \u001B[38;5;129;01min\u001B[39;00m formatted_value \u001B[38;5;28;01melse\u001B[39;00m field\u001B[38;5;241m.\u001B[39mseparator\n\u001B[0;32m     47\u001B[0m result\u001B[38;5;241m.\u001B[39mappend(\n\u001B[0;32m     48\u001B[0m     \u001B[38;5;124mf\u001B[39m\u001B[38;5;124m\"\u001B[39m\u001B[38;5;132;01m{\u001B[39;00mfield\u001B[38;5;241m.\u001B[39mname\u001B[38;5;132;01m}\u001B[39;00m\u001B[38;5;132;01m{\u001B[39;00mseparator\u001B[38;5;132;01m}\u001B[39;00m\u001B[38;5;132;01m{\u001B[39;00mformatted_value\u001B[38;5;132;01m}\u001B[39;00m\u001B[38;5;124m\"\u001B[39m,\n\u001B[0;32m     49\u001B[0m )\n",
      "File \u001B[1;32m~\\AppData\\Local\\pypoetry\\Cache\\virtualenvs\\explingo-KvhrqG9c-py3.10\\lib\\site-packages\\dsp\\adapters\\template.py:41\u001B[0m, in \u001B[0;36mTemplate.query.<locals>.format_handler\u001B[1;34m(x)\u001B[0m\n\u001B[0;32m     40\u001B[0m \u001B[38;5;28;01mdef\u001B[39;00m \u001B[38;5;21mformat_handler\u001B[39m(x):\n\u001B[1;32m---> 41\u001B[0m     \u001B[38;5;28;01massert\u001B[39;00m \u001B[38;5;28mtype\u001B[39m(x) \u001B[38;5;241m==\u001B[39m \u001B[38;5;28mstr\u001B[39m, \u001B[38;5;124mf\u001B[39m\u001B[38;5;124m\"\u001B[39m\u001B[38;5;124mNeed format_handler for \u001B[39m\u001B[38;5;132;01m{\u001B[39;00mfield\u001B[38;5;241m.\u001B[39minput_variable\u001B[38;5;132;01m}\u001B[39;00m\u001B[38;5;124m of type \u001B[39m\u001B[38;5;132;01m{\u001B[39;00m\u001B[38;5;28mtype\u001B[39m(x)\u001B[38;5;132;01m}\u001B[39;00m\u001B[38;5;124m\"\u001B[39m\n\u001B[0;32m     42\u001B[0m     \u001B[38;5;28;01mreturn\u001B[39;00m \u001B[38;5;124m\"\u001B[39m\u001B[38;5;124m \u001B[39m\u001B[38;5;124m\"\u001B[39m\u001B[38;5;241m.\u001B[39mjoin(x\u001B[38;5;241m.\u001B[39msplit())\n",
      "\u001B[1;31mAssertionError\u001B[0m: Need format_handler for narrative of type <class 'list'>"
     ]
    }
   ],
   "execution_count": 5
  },
  {
   "metadata": {},
   "cell_type": "code",
   "source": "grader(explanation=explanation, explanation_format=explanation_format, narrative=narrative_with_bootstrap)",
   "id": "3c8dcad6baab3802",
   "outputs": [],
   "execution_count": null
  },
  {
   "metadata": {},
   "cell_type": "code",
   "source": "",
   "id": "25b0872561d67041",
   "outputs": [],
   "execution_count": null
  }
 ],
 "metadata": {
  "kernelspec": {
   "display_name": "Python 3",
   "language": "python",
   "name": "python3"
  },
  "language_info": {
   "codemirror_mode": {
    "name": "ipython",
    "version": 2
   },
   "file_extension": ".py",
   "mimetype": "text/x-python",
   "name": "python",
   "nbconvert_exporter": "python",
   "pygments_lexer": "ipython2",
   "version": "2.7.6"
  }
 },
 "nbformat": 4,
 "nbformat_minor": 5
}

{
 "cells": [
  {
   "cell_type": "code",
   "id": "initial_id",
   "metadata": {
    "collapsed": true,
    "ExecuteTime": {
     "end_time": "2024-09-26T21:30:29.439591Z",
     "start_time": "2024-09-26T21:30:29.386243Z"
    }
   },
   "source": [
    "import yaml \n",
    "import os\n",
    "\n",
    "with open(os.path.join(\"..\", \"keys.yaml\"), \"r\") as file:\n",
    "    config = yaml.safe_load(file)\n",
    "    openai_api_key = config[\"openai_api_key\"]"
   ],
   "outputs": [],
   "execution_count": 1
  },
  {
   "metadata": {
    "ExecuteTime": {
     "end_time": "2024-09-26T21:30:32.165871Z",
     "start_time": "2024-09-26T21:30:29.441592Z"
    }
   },
   "cell_type": "code",
   "source": [
    "from explingo import Narrator, Grader \n",
    "\n",
    "example_narratives = [\n",
    "    (\"(Above ground living area square feet, 1256.00, -12527.46), (Overall material and finish of the house, 5.00, -10743.76), (Second floor square feet, 0.00, -10142.29)\", \n",
    "     \"The house's living area size of around 1,200 sq. ft., lower quality materials (5/10), and lack of a second floor all reduce the house's value.\"),\n",
    "    (\"(Second floor square feet, 854.00, 12757.84), (Original construction date, 2003.00, 9115.72)\",\n",
    "     \"The house's large second floor of around 850 sq. ft and recent construction date of 2003 increase its value.\"),\n",
    "    (\"(Overall material and finish of the house, 8.00, 10743.76), (Above ground living area square feet, 2000.00, 12527.46), (Second floor square feet, 1000.00, 10142.29)\",\n",
    "        \"The house's high quality materials (8/10), large living area size of around 2,000 sq. ft., and a second floor of around 1,000 sq. ft. all increase the house's value.\"),\n",
    "]\n",
    "\n",
    "explanation_format = \"(feature name, feature value, SHAP feature contribution)\"\n",
    "context = \"The model predicts house prices\"\n",
    "\n",
    "narrator = Narrator(openai_api_key=openai_api_key,\n",
    "                    explanation_format=explanation_format,\n",
    "                    context=context,\n",
    "                    sample_narratives=example_narratives)\n"
   ],
   "id": "94b1d6514180c940",
   "outputs": [],
   "execution_count": 2
  },
  {
   "metadata": {},
   "cell_type": "markdown",
   "source": "",
   "id": "225625fd117fec33"
  },
  {
   "metadata": {
    "ExecuteTime": {
     "end_time": "2024-09-26T21:38:07.330709Z",
     "start_time": "2024-09-26T21:38:06.118742Z"
    }
   },
   "cell_type": "code",
   "source": [
    "explanation = \"(number of rooms, 11, 7020), (fireplace, yes, 12903)\"\n",
    "\n",
    "narrative = narrator.narrate(explanation)\n",
    "narrative"
   ],
   "id": "435b1b4daa990205",
   "outputs": [
    {
     "data": {
      "text/plain": [
       "\"The house's large number of rooms (11) and the presence of a fireplace both increase the house's value.\""
      ]
     },
     "execution_count": 5,
     "metadata": {},
     "output_type": "execute_result"
    }
   ],
   "execution_count": 5
  },
  {
   "metadata": {
    "ExecuteTime": {
     "end_time": "2024-09-26T21:38:11.324176Z",
     "start_time": "2024-09-26T21:38:07.335725Z"
    }
   },
   "cell_type": "code",
   "source": [
    "grader = Grader(openai_api_key=openai_api_key, \n",
    "                metrics=\"all\", \n",
    "                sample_narratives=example_narratives)\n",
    "\n",
    "grader(explanation=explanation, explanation_format=explanation_format, narrative=narrative)"
   ],
   "id": "1b3c383915180de",
   "outputs": [
    {
     "data": {
      "text/plain": [
       "accuracy        4.0\n",
       "completeness    4.0\n",
       "fluency         4.0\n",
       "conciseness     4.0\n",
       "dtype: float64"
      ]
     },
     "execution_count": 6,
     "metadata": {},
     "output_type": "execute_result"
    }
   ],
   "execution_count": 6
  },
  {
   "metadata": {
    "ExecuteTime": {
     "end_time": "2024-09-26T21:30:33.132945Z",
     "start_time": "2024-09-26T21:30:33.125945Z"
    }
   },
   "cell_type": "code",
   "source": "",
   "id": "bbba0e6516ec56b2",
   "outputs": [],
   "execution_count": 4
  }
 ],
 "metadata": {
  "kernelspec": {
   "display_name": "Python 3",
   "language": "python",
   "name": "python3"
  },
  "language_info": {
   "codemirror_mode": {
    "name": "ipython",
    "version": 2
   },
   "file_extension": ".py",
   "mimetype": "text/x-python",
   "name": "python",
   "nbconvert_exporter": "python",
   "pygments_lexer": "ipython2",
   "version": "2.7.6"
  }
 },
 "nbformat": 4,
 "nbformat_minor": 5
}
